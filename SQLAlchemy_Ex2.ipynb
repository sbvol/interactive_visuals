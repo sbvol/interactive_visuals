{
 "cells": [
  {
   "cell_type": "code",
   "execution_count": 25,
   "metadata": {
    "collapsed": true
   },
   "outputs": [],
   "source": [
    "from sqlalchemy import create_engine\n",
    "from sqlalchemy.ext.declarative import declarative_base\n",
    "import pandas as pd\n",
    "import pymysql\n",
    "pymysql.install_as_MySQLdb()\n",
    "Base = declarative_base()\n",
    "from sqlalchemy import Column, Integer, String, Float\n",
    "from sqlalchemy.orm import Session\n",
    "session = Session(bind=engine)"
   ]
  },
  {
   "cell_type": "code",
   "execution_count": 26,
   "metadata": {},
   "outputs": [],
   "source": [
    "class garbage(Base):\n",
    "    __tablename__ = \"garbage_collection\"\n",
    "    id = Column(Integer, primary_key=True)\n",
    "    item = Column(String(30))\n",
    "    weight = Column(Float)\n",
    "    collector = Column(String(30))"
   ]
  },
  {
   "cell_type": "code",
   "execution_count": 27,
   "metadata": {
    "collapsed": true
   },
   "outputs": [],
   "source": [
    "entry_1 = garbage(item='tomato', weight=2.2, collector='Johnny - Truck 1')\n",
    "entry_2 = garbage(item='tomato', weight=2.2, collector='Sam - Truck 2')"
   ]
  },
  {
   "cell_type": "code",
   "execution_count": 28,
   "metadata": {},
   "outputs": [],
   "source": [
    "engine = create_engine('mysql://root@127.0.0.1:3306/garbage')\n",
    "conn = engine.connect()\n",
    "Base.metadata.create_all(conn)"
   ]
  },
  {
   "cell_type": "code",
   "execution_count": 29,
   "metadata": {},
   "outputs": [],
   "source": [
    "session.add(entry_1)\n",
    "session.add(entry_2)"
   ]
  },
  {
   "cell_type": "code",
   "execution_count": 30,
   "metadata": {},
   "outputs": [
    {
     "name": "stdout",
     "output_type": "stream",
     "text": [
      "Sam - Truck 2\n"
     ]
    }
   ],
   "source": [
    "data = session.query(garbage).filter_by(collector='Sam - Truck 2')\n",
    "for record in data:\n",
    "    print(record.collector)"
   ]
  },
  {
   "cell_type": "code",
   "execution_count": 31,
   "metadata": {
    "collapsed": true
   },
   "outputs": [],
   "source": [
    "session.add(garbage(item='sofa', weight=212.2, collector='Jimbo - Truck 3'))"
   ]
  },
  {
   "cell_type": "code",
   "execution_count": 32,
   "metadata": {},
   "outputs": [
    {
     "name": "stdout",
     "output_type": "stream",
     "text": [
      "tomato 2.2 Johnny - Truck 1\n",
      "tomato 2.2 Sam - Truck 2\n",
      "sofa 212.2 Jimbo - Truck 3\n"
     ]
    }
   ],
   "source": [
    "data = session.query(garbage)\n",
    "for record in data:\n",
    "    print(record.item, record.weight, record.collector)"
   ]
  },
  {
   "cell_type": "code",
   "execution_count": 40,
   "metadata": {},
   "outputs": [],
   "source": [
    "data = session.query(garbage).filter_by(collector='Sam - Truck 2').first()\n",
    "data.weight = 98"
   ]
  },
  {
   "cell_type": "code",
   "execution_count": 41,
   "metadata": {},
   "outputs": [
    {
     "name": "stdout",
     "output_type": "stream",
     "text": [
      "tomato 2.2 Johnny - Truck 1\n",
      "tomato 98 Sam - Truck 2\n",
      "sofa 212.2 Jimbo - Truck 3\n"
     ]
    }
   ],
   "source": [
    "data = session.query(garbage)\n",
    "for record in data:\n",
    "    print(record.item, record.weight, record.collector)"
   ]
  },
  {
   "cell_type": "code",
   "execution_count": 23,
   "metadata": {},
   "outputs": [
    {
     "data": {
      "text/plain": [
       "IdentitySet([])"
      ]
     },
     "execution_count": 23,
     "metadata": {},
     "output_type": "execute_result"
    }
   ],
   "source": [
    "session.dirty"
   ]
  },
  {
   "cell_type": "code",
   "execution_count": 21,
   "metadata": {},
   "outputs": [
    {
     "name": "stdout",
     "output_type": "stream",
     "text": [
      "tomato 2.2 Johnny - Truck 1\n",
      "tomato 2.2 Sam - Truck 2\n",
      "sofa 212.2 Jimbo - Truck 3\n"
     ]
    }
   ],
   "source": [
    "data = session.query(garbage)\n",
    "for record in data:\n",
    "    print(record.item, record.weight, record.collector)"
   ]
  },
  {
   "cell_type": "code",
   "execution_count": null,
   "metadata": {
    "collapsed": true
   },
   "outputs": [],
   "source": []
  }
 ],
 "metadata": {
  "kernelspec": {
   "display_name": "Python 3",
   "language": "python",
   "name": "python3"
  },
  "language_info": {
   "codemirror_mode": {
    "name": "ipython",
    "version": 3
   },
   "file_extension": ".py",
   "mimetype": "text/x-python",
   "name": "python",
   "nbconvert_exporter": "python",
   "pygments_lexer": "ipython3",
   "version": "3.6.3"
  }
 },
 "nbformat": 4,
 "nbformat_minor": 2
}
